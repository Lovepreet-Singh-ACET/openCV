{
 "cells": [
  {
   "cell_type": "markdown",
   "id": "fa9631c5",
   "metadata": {},
   "source": [
    "# Task 35.1\n",
    "## Create image by yourself Using Python Code "
   ]
  },
  {
   "cell_type": "code",
   "execution_count": 1,
   "id": "77d81ae8",
   "metadata": {},
   "outputs": [],
   "source": [
    "import cv2\n",
    "import numpy as np"
   ]
  },
  {
   "cell_type": "code",
   "execution_count": 2,
   "id": "99b5ccf0",
   "metadata": {},
   "outputs": [],
   "source": [
    "image = np.zeros((500, 400, 3), np.uint8)\n",
    "image[:] = (0, 255, 0)\n",
    "\n",
    "image[50:60, 50:350] = (255, 0, 0)\n",
    "image[50:350, 50:60] = (255, 0, 0)\n",
    "image[50:350, 190:210] = (255, 0, 0)\n",
    "image[200:220, 100:120] = (255, 0, 0)\n",
    "image[200:220, 300:320] = (255, 0, 0)\n",
    "image[50:350, 350:360] = (255, 0, 0)\n",
    "image[340:350, 50:350] = (255, 0, 0)\n",
    "\n",
    "\n",
    "cv2.imshow(\"Image\", image)\n",
    "cv2.imwrite('task.jpg', image)\n",
    "cv2.waitKey(0)\n",
    "cv2.destroyAllWindows()"
   ]
  },
  {
   "cell_type": "markdown",
   "id": "18d23507",
   "metadata": {},
   "source": [
    "# Task 35.2\n",
    "## Take 2 images, crop some part of both the images and swap them. "
   ]
  },
  {
   "cell_type": "code",
   "execution_count": 3,
   "id": "5f78601b",
   "metadata": {},
   "outputs": [],
   "source": [
    "first = cv2.imread('first.jpg')\n",
    "second = cv2.imread('second.jpg')"
   ]
  },
  {
   "cell_type": "code",
   "execution_count": 4,
   "id": "e719113a",
   "metadata": {},
   "outputs": [],
   "source": [
    "cv2.imshow(\"Image\", first)\n",
    "cv2.waitKey(0)\n",
    "cv2.destroyAllWindows()"
   ]
  },
  {
   "cell_type": "code",
   "execution_count": 5,
   "id": "5cf7a76b",
   "metadata": {},
   "outputs": [],
   "source": [
    "cv2.imshow(\"Image\", second)\n",
    "cv2.waitKey(0)\n",
    "cv2.destroyAllWindows()"
   ]
  },
  {
   "cell_type": "code",
   "execution_count": 6,
   "id": "9c57ecd3",
   "metadata": {},
   "outputs": [],
   "source": [
    "face1 = first[10:100, 250:340]\n",
    "face1R = cv2.resize(face1,(270, 240) )"
   ]
  },
  {
   "cell_type": "code",
   "execution_count": 7,
   "id": "5e67135d",
   "metadata": {},
   "outputs": [],
   "source": [
    "cv2.imshow(\"Image\", face1R)\n",
    "cv2.waitKey(0)\n",
    "cv2.destroyAllWindows()"
   ]
  },
  {
   "cell_type": "code",
   "execution_count": 8,
   "id": "51320307",
   "metadata": {},
   "outputs": [],
   "source": [
    "face2  = second[110:350, 200:470]\n",
    "face2R = cv2.resize(face2,(90, 90) )"
   ]
  },
  {
   "cell_type": "code",
   "execution_count": 9,
   "id": "f7549750",
   "metadata": {},
   "outputs": [],
   "source": [
    "cv2.imshow(\"Image\", face2R)\n",
    "cv2.waitKey(0)\n",
    "cv2.destroyAllWindows()"
   ]
  },
  {
   "cell_type": "code",
   "execution_count": 10,
   "id": "04f6eadd",
   "metadata": {},
   "outputs": [],
   "source": [
    "second[110:350, 200:470],first[10:100, 250:340] = face1R, face2R"
   ]
  },
  {
   "cell_type": "code",
   "execution_count": 11,
   "id": "1db0ec9d",
   "metadata": {},
   "outputs": [],
   "source": [
    "cv2.imshow(\"Image\", first)\n",
    "cv2.waitKey(0)\n",
    "cv2.destroyAllWindows()"
   ]
  },
  {
   "cell_type": "code",
   "execution_count": 12,
   "id": "2927b537",
   "metadata": {},
   "outputs": [],
   "source": [
    "cv2.imshow(\"Image\", second)\n",
    "cv2.waitKey(0)\n",
    "cv2.destroyAllWindows()"
   ]
  },
  {
   "cell_type": "markdown",
   "id": "6ce3d70a",
   "metadata": {},
   "source": [
    "# Task 35.3\n",
    "## Take 2 images and combine it to form a single image. For example, collage "
   ]
  },
  {
   "cell_type": "code",
   "execution_count": 13,
   "id": "1dba8f4f",
   "metadata": {},
   "outputs": [],
   "source": [
    "first = cv2.imread('first.jpg')\n",
    "third = cv2.imread('third.jpg')"
   ]
  },
  {
   "cell_type": "code",
   "execution_count": 14,
   "id": "5ee22ff5",
   "metadata": {},
   "outputs": [],
   "source": [
    "cv2.imshow(\"Image\", first)\n",
    "cv2.waitKey(0)\n",
    "cv2.destroyAllWindows()"
   ]
  },
  {
   "cell_type": "code",
   "execution_count": 15,
   "id": "aedd2dbe",
   "metadata": {},
   "outputs": [],
   "source": [
    "cv2.imshow(\"Image\", third)\n",
    "cv2.waitKey(0)\n",
    "cv2.destroyAllWindows()"
   ]
  },
  {
   "cell_type": "code",
   "execution_count": 16,
   "id": "e3d12e3e",
   "metadata": {},
   "outputs": [],
   "source": [
    "firstR = cv2.resize(first, (200,220))"
   ]
  },
  {
   "cell_type": "code",
   "execution_count": 17,
   "id": "d660cdd2",
   "metadata": {},
   "outputs": [],
   "source": [
    "cv2.imshow(\"Image\", firstR)\n",
    "cv2.waitKey(0)\n",
    "cv2.destroyAllWindows()"
   ]
  },
  {
   "cell_type": "code",
   "execution_count": 18,
   "id": "d5af45ea",
   "metadata": {},
   "outputs": [],
   "source": [
    "thirdR = cv2.resize(third, (200,220))"
   ]
  },
  {
   "cell_type": "code",
   "execution_count": 19,
   "id": "102f9f58",
   "metadata": {},
   "outputs": [],
   "source": [
    "cv2.imshow(\"Image\", thirdR)\n",
    "cv2.waitKey(0)\n",
    "cv2.destroyAllWindows()"
   ]
  },
  {
   "cell_type": "code",
   "execution_count": 20,
   "id": "9b090b46",
   "metadata": {},
   "outputs": [],
   "source": [
    "newImage = np.concatenate((firstR,thirdR), axis=1)"
   ]
  },
  {
   "cell_type": "code",
   "execution_count": 21,
   "id": "74a9e948",
   "metadata": {},
   "outputs": [],
   "source": [
    "cv2.imshow(\"Image\", newImage)\n",
    "cv2.waitKey(0)\n",
    "cv2.destroyAllWindows()"
   ]
  },
  {
   "cell_type": "code",
   "execution_count": null,
   "id": "82d820a7",
   "metadata": {},
   "outputs": [],
   "source": []
  }
 ],
 "metadata": {
  "kernelspec": {
   "display_name": "Python 3",
   "language": "python",
   "name": "python3"
  },
  "language_info": {
   "codemirror_mode": {
    "name": "ipython",
    "version": 3
   },
   "file_extension": ".py",
   "mimetype": "text/x-python",
   "name": "python",
   "nbconvert_exporter": "python",
   "pygments_lexer": "ipython3",
   "version": "3.7.10"
  }
 },
 "nbformat": 4,
 "nbformat_minor": 5
}
